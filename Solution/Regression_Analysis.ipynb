{
 "cells": [
  {
   "cell_type": "code",
   "execution_count": 44,
   "id": "86b9479a-a1ef-461a-a3db-39a29484860d",
   "metadata": {},
   "outputs": [],
   "source": [
    "# Standard libraries\n",
    "import warnings\n",
    "import pandas as pd\n",
    "import matplotlib.pyplot as plt\n",
    "import seaborn as sns\n",
    "\n",
    "# Scikit-learn modules\n",
    "from sklearn.compose import ColumnTransformer\n",
    "from sklearn.decomposition import PCA\n",
    "from sklearn.linear_model import LinearRegression\n",
    "from sklearn.metrics import r2_score\n",
    "from sklearn.model_selection import train_test_split\n",
    "from sklearn.pipeline import Pipeline\n",
    "from sklearn.preprocessing import (\n",
    "    OneHotEncoder,\n",
    "    StandardScaler\n",
    ")\n",
    "\n",
    "# Configuration\n",
    "warnings.filterwarnings(\"ignore\")\n",
    "sns.set(style=\"whitegrid\")\n",
    "plt.style.use(\"seaborn-v0_8\")"
   ]
  },
  {
   "cell_type": "code",
   "execution_count": 46,
   "id": "268d9d20-689d-4892-890d-fe4425e267ba",
   "metadata": {},
   "outputs": [
    {
     "data": {
      "text/html": [
       "<div>\n",
       "<style scoped>\n",
       "    .dataframe tbody tr th:only-of-type {\n",
       "        vertical-align: middle;\n",
       "    }\n",
       "\n",
       "    .dataframe tbody tr th {\n",
       "        vertical-align: top;\n",
       "    }\n",
       "\n",
       "    .dataframe thead th {\n",
       "        text-align: right;\n",
       "    }\n",
       "</style>\n",
       "<table border=\"1\" class=\"dataframe\">\n",
       "  <thead>\n",
       "    <tr style=\"text-align: right;\">\n",
       "      <th></th>\n",
       "      <th>age</th>\n",
       "      <th>sex</th>\n",
       "      <th>bmi</th>\n",
       "      <th>children</th>\n",
       "      <th>smoker</th>\n",
       "      <th>region</th>\n",
       "      <th>charges</th>\n",
       "    </tr>\n",
       "  </thead>\n",
       "  <tbody>\n",
       "    <tr>\n",
       "      <th>1201</th>\n",
       "      <td>46</td>\n",
       "      <td>male</td>\n",
       "      <td>40.375</td>\n",
       "      <td>2</td>\n",
       "      <td>no</td>\n",
       "      <td>northwest</td>\n",
       "      <td>8733.22925</td>\n",
       "    </tr>\n",
       "    <tr>\n",
       "      <th>678</th>\n",
       "      <td>56</td>\n",
       "      <td>male</td>\n",
       "      <td>36.100</td>\n",
       "      <td>3</td>\n",
       "      <td>no</td>\n",
       "      <td>southwest</td>\n",
       "      <td>12363.54700</td>\n",
       "    </tr>\n",
       "    <tr>\n",
       "      <th>1332</th>\n",
       "      <td>52</td>\n",
       "      <td>female</td>\n",
       "      <td>44.700</td>\n",
       "      <td>3</td>\n",
       "      <td>no</td>\n",
       "      <td>southwest</td>\n",
       "      <td>11411.68500</td>\n",
       "    </tr>\n",
       "    <tr>\n",
       "      <th>579</th>\n",
       "      <td>25</td>\n",
       "      <td>female</td>\n",
       "      <td>23.465</td>\n",
       "      <td>0</td>\n",
       "      <td>no</td>\n",
       "      <td>northeast</td>\n",
       "      <td>3206.49135</td>\n",
       "    </tr>\n",
       "    <tr>\n",
       "      <th>643</th>\n",
       "      <td>23</td>\n",
       "      <td>female</td>\n",
       "      <td>34.960</td>\n",
       "      <td>3</td>\n",
       "      <td>no</td>\n",
       "      <td>northwest</td>\n",
       "      <td>4466.62140</td>\n",
       "    </tr>\n",
       "  </tbody>\n",
       "</table>\n",
       "</div>"
      ],
      "text/plain": [
       "      age     sex     bmi  children smoker     region      charges\n",
       "1201   46    male  40.375         2     no  northwest   8733.22925\n",
       "678    56    male  36.100         3     no  southwest  12363.54700\n",
       "1332   52  female  44.700         3     no  southwest  11411.68500\n",
       "579    25  female  23.465         0     no  northeast   3206.49135\n",
       "643    23  female  34.960         3     no  northwest   4466.62140"
      ]
     },
     "execution_count": 46,
     "metadata": {},
     "output_type": "execute_result"
    }
   ],
   "source": [
    "df=pd.read_csv(r\"C:\\Users\\Lenovo\\Desktop\\LMS_PROJECT\\Linear Regression Project\\Dataset\\insurance.csv\")\n",
    "df.sample(5)"
   ]
  },
  {
   "cell_type": "markdown",
   "id": "e41eac01-2a2f-4ab0-af57-7f284cbedab1",
   "metadata": {},
   "source": [
    "# EDA"
   ]
  },
  {
   "cell_type": "code",
   "execution_count": 49,
   "id": "dccf019e-173a-4c09-ae8a-f6575f8a7e39",
   "metadata": {},
   "outputs": [],
   "source": [
    "#Check for null values"
   ]
  },
  {
   "cell_type": "code",
   "execution_count": 51,
   "id": "f463a452-fc90-4c1c-864f-0db8339ad571",
   "metadata": {},
   "outputs": [
    {
     "data": {
      "text/plain": [
       "age         0\n",
       "sex         0\n",
       "bmi         0\n",
       "children    0\n",
       "smoker      0\n",
       "region      0\n",
       "charges     0\n",
       "dtype: int64"
      ]
     },
     "execution_count": 51,
     "metadata": {},
     "output_type": "execute_result"
    }
   ],
   "source": [
    "df.isnull().sum()"
   ]
  },
  {
   "cell_type": "code",
   "execution_count": 53,
   "id": "f9d1bd52-34f9-4064-b44f-0f723dc226c7",
   "metadata": {},
   "outputs": [
    {
     "name": "stdout",
     "output_type": "stream",
     "text": [
      "<class 'pandas.core.frame.DataFrame'>\n",
      "RangeIndex: 1338 entries, 0 to 1337\n",
      "Data columns (total 7 columns):\n",
      " #   Column    Non-Null Count  Dtype  \n",
      "---  ------    --------------  -----  \n",
      " 0   age       1338 non-null   int64  \n",
      " 1   sex       1338 non-null   object \n",
      " 2   bmi       1338 non-null   float64\n",
      " 3   children  1338 non-null   int64  \n",
      " 4   smoker    1338 non-null   object \n",
      " 5   region    1338 non-null   object \n",
      " 6   charges   1338 non-null   float64\n",
      "dtypes: float64(2), int64(2), object(3)\n",
      "memory usage: 73.3+ KB\n"
     ]
    }
   ],
   "source": [
    "df.info()"
   ]
  },
  {
   "cell_type": "code",
   "execution_count": 55,
   "id": "e051c793-9e2f-4f0c-8453-d0cf314146ea",
   "metadata": {},
   "outputs": [],
   "source": [
    "# Check for Outliers"
   ]
  },
  {
   "cell_type": "code",
   "execution_count": 57,
   "id": "df6ddfa2-5d45-46dd-a018-30de02ecd99c",
   "metadata": {
    "scrolled": true
   },
   "outputs": [
    {
     "data": {
      "text/plain": [
       "<Axes: >"
      ]
     },
     "execution_count": 57,
     "metadata": {},
     "output_type": "execute_result"
    },
    {
     "data": {
      "image/png": "[encoded data removed]",
      "text/plain": [
       "<Figure size 500x300 with 1 Axes>"
      ]
     },
     "metadata": {},
     "output_type": "display_data"
    }
   ],
   "source": [
    "plt.figure(figsize=(5, 3)) \n",
    "sns.boxplot(data=df)"
   ]
  },
  {
   "cell_type": "markdown",
   "id": "d0aef589-ac66-4807-9c0d-b4dfcaebf839",
   "metadata": {},
   "source": [
    "## We have to remove outliers from charges variable"
   ]
  },
  {
   "cell_type": "code",
   "execution_count": 60,
   "id": "3e41556b-680f-4a07-b867-8253f3de4567",
   "metadata": {},
   "outputs": [],
   "source": [
    "for i in df:                  # i = column name\n",
    "    if df[i].dtypes in (\"float64\",\"int64\"): # df[i] = every column will select float & int column only\n",
    "        q1 = df[i].quantile(0.25)  # for 1 column compute q1\n",
    "        q3 = df[i].quantile(0.75)  # for 1 column compute q3\n",
    "        iqr = q3-q1  # for 1 column compute IQR\n",
    "        ul = q3 + 1.5*iqr # for 1 column compute UPPER LIMIT\n",
    "        ll = q1 - 1.5*iqr # for 1 column compute LOWER LIMIT\n",
    "        df[i].clip(lower=ll,upper=ul,inplace=True)"
   ]
  },
  {
   "cell_type": "code",
   "execution_count": 62,
   "id": "ea7b3722-9ea4-4ed0-a6c1-47cd10bb815c",
   "metadata": {},
   "outputs": [
    {
     "data": {
      "text/plain": [
       "<Axes: >"
      ]
     },
     "execution_count": 62,
     "metadata": {},
     "output_type": "execute_result"
    },
    {
     "data": {
      "image/png": "[encoded data removed]",
      "text/plain": [
       "<Figure size 500x300 with 1 Axes>"
      ]
     },
     "metadata": {},
     "output_type": "display_data"
    }
   ],
   "source": [
    "plt.figure(figsize=(5, 3)) \n",
    "sns.boxplot(data=df)"
   ]
  },
  {
   "cell_type": "markdown",
   "id": "3f771665-05ae-4d4c-8062-579477b1f622",
   "metadata": {},
   "source": [
    "### From the boxplot we can see that there is no outliers present in input variables"
   ]
  },
  {
   "cell_type": "code",
   "execution_count": 65,
   "id": "230287ac-29e2-41e6-8988-e0fe234a857d",
   "metadata": {
    "scrolled": true
   },
   "outputs": [
    {
     "data": {
      "image/png": "[encoded data removed]",
      "text/plain": [
       "<Figure size 500x300 with 1 Axes>"
      ]
     },
     "metadata": {},
     "output_type": "display_data"
    }
   ],
   "source": [
    "plt.figure(figsize=(5, 3)) \n",
    "ax=sns.barplot(x=df.smoker,y=df.charges,palette='flare')"
   ]
  },
  {
   "cell_type": "markdown",
   "id": "0a456a08-1b80-458d-93b2-92754668d5f2",
   "metadata": {},
   "source": [
    "### From the braplot we see that the perseons with smoking habit has higher insurance charges."
   ]
  },
  {
   "cell_type": "code",
   "execution_count": 68,
   "id": "51636405-d8f9-4ea9-90bb-415df3d1bd12",
   "metadata": {},
   "outputs": [
    {
     "data": {
      "image/png": "[encoded data removed]",
      "text/plain": [
       "<Figure size 500x300 with 1 Axes>"
      ]
     },
     "metadata": {},
     "output_type": "display_data"
    }
   ],
   "source": [
    "plt.figure(figsize=(5, 3)) \n",
    "ax=sns.barplot(x=df.sex,y=df.charges,palette='flare')"
   ]
  },
  {
   "cell_type": "markdown",
   "id": "eab8b1cb-272f-432e-8e1e-b7e208f8b7de",
   "metadata": {},
   "source": [
    "# insurance price for male and female is almost same"
   ]
  },
  {
   "cell_type": "code",
   "execution_count": 71,
   "id": "5a6e8c68-a907-4d7e-8f0f-7fea53798da5",
   "metadata": {},
   "outputs": [
    {
     "data": {
      "text/plain": [
       "<Axes: xlabel='region', ylabel='charges'>"
      ]
     },
     "execution_count": 71,
     "metadata": {},
     "output_type": "execute_result"
    },
    {
     "data": {
      "image/png": "[encoded data removed]",
      "text/plain": [
       "<Figure size 500x300 with 1 Axes>"
      ]
     },
     "metadata": {},
     "output_type": "display_data"
    }
   ],
   "source": [
    "plt.figure(figsize=(5, 3)) \n",
    "sns.barplot(x=df.region,y=df.charges,palette='pastel')"
   ]
  },
  {
   "cell_type": "markdown",
   "id": "24423bdf-4794-4ccd-9236-5840c6b8d334",
   "metadata": {},
   "source": [
    "### From the barplot we can conclude that insurance charges are slightly higher in South-east and North-east region"
   ]
  },
  {
   "cell_type": "markdown",
   "id": "afabfef2-4b3f-4f8e-9e67-5023c3e345d0",
   "metadata": {},
   "source": [
    "# Data Preprocessing"
   ]
  },
  {
   "cell_type": "code",
   "execution_count": 391,
   "id": "235d74c9-c6a9-437f-b76b-1380ee2450ea",
   "metadata": {},
   "outputs": [],
   "source": [
    "# converting catagorical variable into numeric variable"
   ]
  },
  {
   "cell_type": "code",
   "execution_count": 74,
   "id": "61acf856-917a-462a-b102-db3e5a7b9497",
   "metadata": {},
   "outputs": [],
   "source": [
    "transformer = ColumnTransformer(transformers=[\n",
    "    ('tf2',StandardScaler(), ['age','bmi','children']),\n",
    "    ('tf1', OneHotEncoder(sparse_output=False, drop='first',handle_unknown=\"ignore\"), ['sex', 'smoker', 'region'])\n",
    "    \n",
    "], remainder='passthrough')"
   ]
  },
  {
   "cell_type": "markdown",
   "id": "a45d8aa8-ddb3-477c-9ac0-b0c2f4e42958",
   "metadata": {},
   "source": [
    "# Model Building"
   ]
  },
  {
   "cell_type": "code",
   "execution_count": 93,
   "id": "9416e0a5-9f91-40fa-bdc6-8d65569f5790",
   "metadata": {},
   "outputs": [],
   "source": [
    "# Create pipeline with PCA + model\n",
    "pipeline = Pipeline([\n",
    "    ('scaler_OHE', transformer),      # Always scale+ohe before PCA!\n",
    "    ('pca', PCA(n_components=0.95)),   # Keep 95% variance\n",
    "    ('model', LinearRegression())    # Your model\n",
    "])"
   ]
  },
  {
   "cell_type": "code",
   "execution_count": 78,
   "id": "21476ee0-6f99-4f02-b037-3e2afced94af",
   "metadata": {},
   "outputs": [],
   "source": [
    "X=df.drop('charges',axis=1)\n",
    "y=df['charges']\n",
    "# Split data before any transformation\n",
    "X_train, X_test, y_train, y_test = train_test_split(X, y, test_size=0.2, random_state=42)"
   ]
  },
  {
   "cell_type": "code",
   "execution_count": 80,
   "id": "d9083114-e17e-4d2c-88d6-f8adf62f64ec",
   "metadata": {},
   "outputs": [
    {
     "name": "stdout",
     "output_type": "stream",
     "text": [
      "Test accuracy: 0.7820045071681241\n"
     ]
    }
   ],
   "source": [
    "# Fit and evaluate\n",
    "pipeline.fit(X_train, y_train)\n",
    "print(\"Test accuracy:\", pipeline.score(X_test, y_test))"
   ]
  },
  {
   "cell_type": "code",
   "execution_count": 82,
   "id": "c41aeb2a-5609-4aa7-9304-bb7309ba23ae",
   "metadata": {},
   "outputs": [
    {
     "name": "stdout",
     "output_type": "stream",
     "text": [
      "Number of PCA components: 7\n",
      "Number of coefficients: 7\n",
      "Model coefficients per PC:\n",
      "     PC   Coefficient\n",
      "0  PC1   2946.127875\n",
      "1  PC2    152.013735\n",
      "2  PC3    835.721410\n",
      "3  PC4   3225.116731\n",
      "4  PC5   -637.656926\n",
      "5  PC6  -2382.590515\n",
      "6  PC7  19500.784730\n"
     ]
    }
   ],
   "source": [
    "# Get model and PCA objects from pipeline\n",
    "model = pipeline.named_steps['model']\n",
    "pca = pipeline.named_steps['pca']\n",
    "\n",
    "# Verify dimensions match\n",
    "print(f\"Number of PCA components: {pca.n_components_}\")\n",
    "print(f\"Number of coefficients: {len(model.coef_)}\")\n",
    "\n",
    "# Create correct coefficient mapping\n",
    "coef_df = pd.DataFrame({\n",
    "    'PC': [f'PC{i+1}' for i in range(len(model.coef_))],  # Use len(model.coef_) instead\n",
    "    'Coefficient': model.coef_\n",
    "})\n",
    "\n",
    "print(\"Model coefficients per PC:\\n\", coef_df)"
   ]
  },
  {
   "cell_type": "code",
   "execution_count": 95,
   "id": "972e75e9-cd79-430a-8456-efa73dda3550",
   "metadata": {},
   "outputs": [
    {
     "data": {
      "text/plain": [
       "['pca_regression_model.pkl']"
      ]
     },
     "execution_count": 95,
     "metadata": {},
     "output_type": "execute_result"
    }
   ],
   "source": [
    "import joblib\n",
    "\n",
    "# Save the complete pipeline\n",
    "joblib.dump(pipeline, 'pca_regression_model.pkl')\n",
    "\n",
    "# Optional: Save with compression (smaller file)\n",
    "joblib.dump(pipeline, 'pca_regression_model.pkl', compress=9)"
   ]
  },
  {
   "cell_type": "code",
   "execution_count": null,
   "id": "97e7f8c8-f2c2-48c2-9c29-a2a99a1f2cf7",
   "metadata": {},
   "outputs": [],
   "source": []
  }
 ],
 "metadata": {
  "kernelspec": {
   "display_name": "Python [conda env:base] *",
   "language": "python",
   "name": "conda-base-py"
  },
  "language_info": {
   "codemirror_mode": {
    "name": "ipython",
    "version": 3
   },
   "file_extension": ".py",
   "mimetype": "text/x-python",
   "name": "python",
   "nbconvert_exporter": "python",
   "pygments_lexer": "ipython3",
   "version": "3.12.7"
  }
 },
 "nbformat": 4,
 "nbformat_minor": 5
}
